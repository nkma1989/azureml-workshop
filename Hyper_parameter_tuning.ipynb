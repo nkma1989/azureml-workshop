{
  "cells": [
    {
      "cell_type": "markdown",
      "source": [
        "# Getting workspace"
      ],
      "metadata": {
        "nteract": {
          "transient": {
            "deleting": false
          }
        }
      }
    },
    {
      "cell_type": "code",
      "source": [
        "from azureml.core import Workspace,Dataset,Environment,Experiment,ComputeTarget,ScriptRunConfig\n",
        "from azureml.train.hyperdrive import BayesianParameterSampling, HyperDriveConfig,PrimaryMetricGoal\n",
        "from azureml.train.hyperdrive import choice\n",
        "\n",
        "ws = Workspace.from_config()\n",
        "print(ws.name, ws.resource_group, ws.location, ws.subscription_id, sep = '\\n')"
      ],
      "outputs": [],
      "execution_count": null,
      "metadata": {
        "gather": {
          "logged": 1646398248828
        }
      }
    },
    {
      "cell_type": "markdown",
      "source": [
        "# Getting predefined dataset, compute and environment"
      ],
      "metadata": {
        "nteract": {
          "transient": {
            "deleting": false
          }
        }
      }
    },
    {
      "cell_type": "code",
      "source": [
        "#Getting dataset\n",
        "training_data=Dataset.get_by_name(ws,'Diabetes_Processed')\n",
        "#Getting compute target\n",
        "compute_instance = ComputeTarget(workspace=ws, name='EXTNAN1')\n",
        "#Getting environment\n",
        "environment = Environment.get(ws,'Diabetes-Model-Environment')"
      ],
      "outputs": [],
      "execution_count": null,
      "metadata": {
        "gather": {
          "logged": 1646398249317
        },
        "jupyter": {
          "outputs_hidden": false,
          "source_hidden": false
        },
        "nteract": {
          "transient": {
            "deleting": false
          }
        }
      }
    },
    {
      "cell_type": "markdown",
      "source": [
        "# Defining run config\n",
        "The ScriptRunConfig class is reused for Hyper parameter tuning and is used to define a HyperDriveConfig </br>\n",
        "Input variables defined are general ones used for the script, such as input data and target column. </br>\n",
        "The script train_hyper.py has tuning parameters as input variables as well and is required for the hyper parameter tunning, which is defined using a ParameterSampling class, as can be seen below."
      ],
      "metadata": {
        "nteract": {
          "transient": {
            "deleting": false
          }
        }
      }
    },
    {
      "cell_type": "code",
      "source": [
        "#Script run config\n",
        "src = ScriptRunConfig(source_directory=\"./scripts\",\n",
        "                      script='./train_hyper.py',\n",
        "                        arguments=[\n",
        "                        \"--input-data\",\n",
        "                        training_data.as_named_input(\"input_data\"),\n",
        "                        \"--target_column\",\n",
        "                        \"Binary_Target\"\n",
        "                        ],\n",
        "                      compute_target=compute_instance,\n",
        "                      environment=environment)"
      ],
      "outputs": [],
      "execution_count": null,
      "metadata": {
        "gather": {
          "logged": 1646398249438
        },
        "jupyter": {
          "outputs_hidden": false,
          "source_hidden": false
        },
        "nteract": {
          "transient": {
            "deleting": false
          }
        }
      }
    },
    {
      "cell_type": "markdown",
      "source": [
        "# HyperDriveConfig and ParameterSampling\n",
        "Setting search space, defining sampling methods and termination policies\n",
        "\n",
        "Docs: </br>\n",
        "[Code Docs](https://docs.microsoft.com/en-us/python/api/azureml-train-core/azureml.train.hyperdrive?view=azure-ml-py#classes) </br>\n",
        "[How to](https://docs.microsoft.com/en-us/azure/machine-learning/how-to-tune-hyperparameters) </br>\n",
        "[Defining Search Space](https://docs.microsoft.com/en-us/azure/machine-learning/how-to-tune-hyperparameters#sampling-the-hyperparameter-space)</br>\n",
        "[Parameter Sampling Methods](https://docs.microsoft.com/en-us/azure/machine-learning/how-to-tune-hyperparameters#sampling-the-hyperparameter-space)"
      ],
      "metadata": {
        "nteract": {
          "transient": {
            "deleting": false
          }
        }
      }
    },
    {
      "cell_type": "code",
      "source": [
        "##Setting sampling parameters\n",
        "param_sampling = BayesianParameterSampling( {\n",
        "        \"learning_rate\": choice(0.1,0.09,0.08,0.07,0.06),\n",
        "        \"n_estimators\": choice(25,50,75,100,125,150),\n",
        "        \"max_depth\": choice(3,4,5)\n",
        "    }\n",
        ")"
      ],
      "outputs": [],
      "execution_count": null,
      "metadata": {
        "gather": {
          "logged": 1646398249546
        },
        "jupyter": {
          "outputs_hidden": false,
          "source_hidden": false
        },
        "nteract": {
          "transient": {
            "deleting": false
          }
        }
      }
    },
    {
      "cell_type": "markdown",
      "source": [
        "#### Defining the HyperDriveConfig and submitting run\n",
        "NB: </br>\n",
        "_primary_metric_name: The name of the primary metric needs to exactly match the name of the metric logged by the training script_"
      ],
      "metadata": {
        "nteract": {
          "transient": {
            "deleting": false
          }
        }
      }
    },
    {
      "cell_type": "code",
      "source": [
        "#Hyperdrive config\n",
        "hd_config = HyperDriveConfig(run_config=src,\n",
        "                                hyperparameter_sampling=param_sampling,\n",
        "                                #policy=early_termination_policy,\n",
        "                                primary_metric_name='F1_score',\n",
        "                                primary_metric_goal=PrimaryMetricGoal.MAXIMIZE,\n",
        "                                max_total_runs=10,\n",
        "                                max_concurrent_runs=4)"
      ],
      "outputs": [],
      "execution_count": null,
      "metadata": {
        "gather": {
          "logged": 1646398249637
        },
        "jupyter": {
          "outputs_hidden": false,
          "source_hidden": false
        },
        "nteract": {
          "transient": {
            "deleting": false
          }
        }
      }
    },
    {
      "cell_type": "code",
      "source": [
        "experiment = Experiment(ws, 'HyperparameterTuning_Diabetes')\n",
        "hyperdrive_run = experiment.submit(hd_config)"
      ],
      "outputs": [],
      "execution_count": null,
      "metadata": {
        "gather": {
          "logged": 1646398253675
        },
        "jupyter": {
          "outputs_hidden": false,
          "source_hidden": false
        },
        "nteract": {
          "transient": {
            "deleting": false
          }
        }
      }
    },
    {
      "cell_type": "code",
      "source": [
        "from azureml.widgets import RunDetails\r\n",
        "RunDetails(hyperdrive_run).show()"
      ],
      "outputs": [],
      "execution_count": null,
      "metadata": {
        "jupyter": {
          "source_hidden": false,
          "outputs_hidden": false
        },
        "nteract": {
          "transient": {
            "deleting": false
          }
        },
        "gather": {
          "logged": 1646398264583
        }
      }
    },
    {
      "cell_type": "markdown",
      "source": [
        "# Getting the best model run and metrics"
      ],
      "metadata": {
        "nteract": {
          "transient": {
            "deleting": false
          }
        }
      }
    },
    {
      "cell_type": "code",
      "source": [
        "best_run = hyperdrive_run.get_best_run_by_primary_metric()\r\n",
        "best_run_metrics = best_run.get_metrics()\r\n",
        "parameter_values = best_run.get_details()['runDefinition']['arguments']\r\n",
        "\r\n",
        "print('Best Run Id: ', best_run.id)\r\n",
        "print('\\n F1 Score:', best_run_metrics['F1_score'])\r\n",
        "print('\\n learning rate:',best_run_metrics['Learning Rate'])\r\n",
        "print('\\n n_estimators:',best_run_metrics['n_estimators'])\r\n",
        "print('\\n max depth:',best_run_metrics['Max Depth'])\r\n",
        "print('\\n Parameters:', parameter_values)"
      ],
      "outputs": [],
      "execution_count": null,
      "metadata": {
        "jupyter": {
          "source_hidden": false,
          "outputs_hidden": false
        },
        "nteract": {
          "transient": {
            "deleting": false
          }
        },
        "gather": {
          "logged": 1646399312228
        }
      }
    },
    {
      "cell_type": "markdown",
      "source": [
        "# Downloading files from best run"
      ],
      "metadata": {
        "nteract": {
          "transient": {
            "deleting": false
          }
        }
      }
    },
    {
      "cell_type": "code",
      "source": [
        "#Downloading model object from best run\r\n",
        "print(best_run.get_file_names())\r\n",
        "best_run.download_files(prefix='./outputs/model/',output_directory='./best-run-model')"
      ],
      "outputs": [],
      "execution_count": null,
      "metadata": {
        "jupyter": {
          "source_hidden": false,
          "outputs_hidden": false
        },
        "nteract": {
          "transient": {
            "deleting": false
          }
        },
        "gather": {
          "logged": 1646398789238
        }
      }
    },
    {
      "cell_type": "markdown",
      "source": [
        "# Registering best model "
      ],
      "metadata": {
        "nteract": {
          "transient": {
            "deleting": false
          }
        }
      }
    },
    {
      "cell_type": "code",
      "source": [
        "#Registering model from best run\r\n",
        "best_run.register_model(\r\n",
        "        model_name=\"HyperParamModel\",\r\n",
        "        model_path=\"outputs/model/model.joblib\",\r\n",
        "        description=\"A classification model\",\r\n",
        "        tags={'Learning Rate': best_run_metrics['Learning Rate'], \r\n",
        "                'N_estimators': best_run_metrics['n_estimators'], \r\n",
        "                'Max Depth': best_run_metrics['Max Depth']\r\n",
        "                }\r\n",
        "        )"
      ],
      "outputs": [],
      "execution_count": null,
      "metadata": {
        "jupyter": {
          "source_hidden": false,
          "outputs_hidden": false
        },
        "nteract": {
          "transient": {
            "deleting": false
          }
        },
        "gather": {
          "logged": 1646398795178
        }
      }
    }
  ],
  "metadata": {
    "kernel_info": {
      "name": "python3-azureml"
    },
    "kernelspec": {
      "name": "python3-azureml",
      "language": "python",
      "display_name": "Python 3.6 - AzureML"
    },
    "language_info": {
      "name": "python",
      "version": "3.6.9",
      "mimetype": "text/x-python",
      "codemirror_mode": {
        "name": "ipython",
        "version": 3
      },
      "pygments_lexer": "ipython3",
      "nbconvert_exporter": "python",
      "file_extension": ".py"
    },
    "microsoft": {
      "host": {
        "AzureML": {
          "notebookHasBeenCompleted": true
        }
      }
    },
    "nteract": {
      "version": "nteract-front-end@1.0.0"
    }
  },
  "nbformat": 4,
  "nbformat_minor": 2
}