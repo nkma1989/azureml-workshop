{
  "cells": [
    {
      "cell_type": "markdown",
      "metadata": {
        "nteract": {
          "transient": {
            "deleting": false
          }
        }
      },
      "source": [
        "# Authenticating against workspace"
      ]
    },
    {
      "cell_type": "code",
      "execution_count": null,
      "metadata": {
        "gather": {
          "logged": 1646127289630
        }
      },
      "outputs": [],
      "source": [
        "from azureml.core import Workspace,Dataset,Environment,Experiment,ComputeTarget,ScriptRunConfig\n",
        "\n",
        "ws = Workspace.from_config()\n",
        "print(ws.name, ws.resource_group, ws.location, ws.subscription_id, sep = '\\n')"
      ]
    },
    {
      "cell_type": "code",
      "execution_count": null,
      "metadata": {
        "gather": {
          "logged": 1646127289817
        },
        "jupyter": {
          "outputs_hidden": false,
          "source_hidden": false
        },
        "nteract": {
          "transient": {
            "deleting": false
          }
        }
      },
      "outputs": [],
      "source": [
        "training_data=Dataset.get_by_name(ws,'Diabetes_Processed')"
      ]
    },
    {
      "cell_type": "markdown",
      "metadata": {
        "nteract": {
          "transient": {
            "deleting": false
          }
        }
      },
      "source": [
        "# Creating environment\n",
        "\n",
        "### Docs\n",
        "[Environment class](https://docs.microsoft.com/en-us/python/api/azureml-core/azureml.core.environment(class)?view=azure-ml-py) </br>\n",
        "[How to docs](https://docs.microsoft.com/en-us/azure/machine-learning/how-to-use-environments)  </br>\n",
        "\n"
      ]
    },
    {
      "cell_type": "code",
      "execution_count": null,
      "metadata": {
        "gather": {
          "logged": 1646127290103
        },
        "jupyter": {
          "outputs_hidden": false,
          "source_hidden": false
        },
        "nteract": {
          "transient": {
            "deleting": false
          }
        }
      },
      "outputs": [],
      "source": [
        "from azureml.core.conda_dependencies import CondaDependencies\n",
        "#Creating environment\n",
        "environment = Environment(name='Diabetes-Model-Environment')\n",
        "environment.python.conda_dependencies = CondaDependencies.create(\n",
        "    conda_packages=['pandas','scikit-learn','xgboost','matplotlib']\n",
        "    )\n",
        "environment.register(ws)\n",
        "print(\"Environment Registered\")"
      ]
    },
    {
      "cell_type": "markdown",
      "metadata": {
        "nteract": {
          "transient": {
            "deleting": false
          }
        }
      },
      "source": [
        "# Creating experiment"
      ]
    },
    {
      "cell_type": "code",
      "execution_count": null,
      "metadata": {
        "gather": {
          "logged": 1646127290692
        },
        "jupyter": {
          "outputs_hidden": false,
          "source_hidden": false
        },
        "nteract": {
          "transient": {
            "deleting": false
          }
        }
      },
      "outputs": [],
      "source": [
        "#Creating experiment\n",
        "experiment = Experiment(ws, 'Diabetes-Training')\n",
        "#Getting compute target\n",
        "compute_instance = ComputeTarget(workspace=ws, name='EXTNAN1')"
      ]
    },
    {
      "cell_type": "markdown",
      "metadata": {
        "nteract": {
          "transient": {
            "deleting": false
          }
        }
      },
      "source": [
        "# Defining run configuration\n"
      ]
    },
    {
      "cell_type": "code",
      "execution_count": null,
      "metadata": {
        "gather": {
          "logged": 1646127828913
        },
        "jupyter": {
          "outputs_hidden": false,
          "source_hidden": false
        },
        "nteract": {
          "transient": {
            "deleting": false
          }
        }
      },
      "outputs": [],
      "source": [
        "#Defining run config\n",
        "config = ScriptRunConfig(\n",
        "        source_directory=\"./scripts\",\n",
        "        script=\"./train.py\",\n",
        "        arguments=[\n",
        "            \"--input_data\",\n",
        "            training_data.as_named_input(\"input_data\"),\n",
        "            \"--model_name\",\n",
        "            \"Diabetes-Model\",\n",
        "            \"--target_column\",\n",
        "            \"Binary_Target\"\n",
        "        ],\n",
        "        compute_target=compute_instance,\n",
        "        environment=environment,\n",
        "    )\n",
        "#Creating run\n",
        "run = experiment.submit(config=config)\n",
        "#Output deploy logs to notebook\n",
        "run.wait_for_completion(show_output=True)\n"
      ]
    }
  ],
  "metadata": {
    "kernel_info": {
      "name": "python3-azureml"
    },
    "kernelspec": {
      "display_name": "Python 3.6 - AzureML",
      "language": "python",
      "name": "python3-azureml"
    },
    "language_info": {
      "codemirror_mode": {
        "name": "ipython",
        "version": 3
      },
      "file_extension": ".py",
      "mimetype": "text/x-python",
      "name": "python",
      "nbconvert_exporter": "python",
      "pygments_lexer": "ipython3",
      "version": "3.6.9"
    },
    "microsoft": {
      "host": {
        "AzureML": {
          "notebookHasBeenCompleted": true
        }
      }
    },
    "nteract": {
      "version": "nteract-front-end@1.0.0"
    }
  },
  "nbformat": 4,
  "nbformat_minor": 2
}
