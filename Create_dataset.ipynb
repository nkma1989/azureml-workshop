{
  "cells": [
    {
      "cell_type": "code",
      "execution_count": null,
      "metadata": {
        "gather": {
          "logged": 1646229758668
        }
      },
      "outputs": [],
      "source": [
        "from azureml.core import Workspace,Dataset\n",
        "\n",
        "ws = Workspace.from_config()\n",
        "#print(ws.name, ws.resource_group, ws.location, ws.subscription_id, sep = '\\n')"
      ]
    },
    {
      "cell_type": "markdown",
      "metadata": {
        "nteract": {
          "transient": {
            "deleting": false
          }
        }
      },
      "source": [
        "# Getting raw data\n",
        "This part is only required to run once. It will collect the diabetes dataset and register it as a dataset called 'Diabetes_Raw'."
      ]
    },
    {
      "cell_type": "code",
      "execution_count": null,
      "metadata": {
        "gather": {
          "logged": 1646229774515
        },
        "jupyter": {
          "outputs_hidden": false,
          "source_hidden": false
        },
        "nteract": {
          "transient": {
            "deleting": false
          }
        }
      },
      "outputs": [],
      "source": [
        "from azureml.opendatasets import Diabetes\n",
        "\n",
        "diabetes = Diabetes.get_tabular_dataset()\n",
        "raw_data = diabetes.to_pandas_dataframe()\n"
      ]
    },
    {
      "cell_type": "code",
      "execution_count": null,
      "metadata": {
        "gather": {
          "logged": 1646230131867
        },
        "jupyter": {
          "outputs_hidden": false,
          "source_hidden": false
        },
        "nteract": {
          "transient": {
            "deleting": false
          }
        }
      },
      "outputs": [],
      "source": [
        "ds=ws.get_default_datastore()\n",
        "Dataset.Tabular.register_pandas_dataframe(dataframe=raw_data,target=(ds, 'diabetes_raw_data'),name='Diabetes_Raw')\n",
        "print(\"Raw dataset registered\")"
      ]
    },
    {
      "cell_type": "markdown",
      "metadata": {
        "nteract": {
          "transient": {
            "deleting": false
          }
        }
      },
      "source": [
        "# Getting raw dataset\n",
        "Performing simple data processing and storing it as a temporary file"
      ]
    },
    {
      "cell_type": "code",
      "execution_count": null,
      "metadata": {
        "gather": {
          "logged": 1646126043700
        },
        "jupyter": {
          "outputs_hidden": false,
          "source_hidden": false
        },
        "nteract": {
          "transient": {
            "deleting": false
          }
        }
      },
      "outputs": [],
      "source": [
        "dataset = Dataset.get_by_name(ws, name='Diabetes_Raw')\n",
        "df=dataset.to_pandas_dataframe()"
      ]
    },
    {
      "cell_type": "code",
      "execution_count": null,
      "metadata": {
        "gather": {
          "logged": 1646126043887
        },
        "jupyter": {
          "outputs_hidden": false,
          "source_hidden": false
        },
        "nteract": {
          "transient": {
            "deleting": false
          }
        }
      },
      "outputs": [],
      "source": [
        "print(df.columns)\n",
        "df.rename(columns={'Y':'Target'},inplace=True)\n",
        "df.head()"
      ]
    },
    {
      "cell_type": "markdown",
      "metadata": {
        "nteract": {
          "transient": {
            "deleting": false
          }
        }
      },
      "source": [
        "###### Converting label to binary outcome"
      ]
    },
    {
      "cell_type": "code",
      "execution_count": null,
      "metadata": {
        "gather": {
          "logged": 1646126044077
        },
        "jupyter": {
          "outputs_hidden": false,
          "source_hidden": false
        },
        "nteract": {
          "transient": {
            "deleting": false
          }
        }
      },
      "outputs": [],
      "source": [
        "import pandas as pd\n",
        "#Creating binary target\n",
        "df['Binary_Target']=pd.cut(df['Target'], 2,labels=[0,1])\n",
        "#Dropping target\n",
        "df.drop(columns=['Target'],inplace=True)"
      ]
    },
    {
      "cell_type": "code",
      "execution_count": null,
      "metadata": {
        "gather": {
          "logged": 1646293960539
        },
        "jupyter": {
          "outputs_hidden": false,
          "source_hidden": false
        },
        "nteract": {
          "transient": {
            "deleting": false
          }
        }
      },
      "outputs": [],
      "source": [
        "import os\n",
        "try:\n",
        "    os.mkdir('./data')\n",
        "except Exception:\n",
        "    print(\"Dir already exists\")\n",
        "#Save to local path\n",
        "df.to_csv('./data/train.csv',index=False)"
      ]
    },
    {
      "cell_type": "markdown",
      "metadata": {
        "nteract": {
          "transient": {
            "deleting": false
          }
        }
      },
      "source": [
        "# Register file as dataset"
      ]
    },
    {
      "cell_type": "code",
      "execution_count": null,
      "metadata": {
        "gather": {
          "logged": 1646126044987
        },
        "jupyter": {
          "outputs_hidden": false,
          "source_hidden": false
        },
        "nteract": {
          "transient": {
            "deleting": false
          }
        }
      },
      "outputs": [],
      "source": [
        "#Defining dataset version and description\n",
        "dataset_version='8'\n",
        "description='Convert target column to binary'\n",
        "\n",
        "# Upload file to datastore\n",
        "ds = ws.get_default_datastore()\n",
        "dataset_path_train=f'diabetes_dataset/train_v{dataset_version}'\n",
        "ds.upload_files(['./data/train.csv'], overwrite=True,target_path=dataset_path_train)"
      ]
    },
    {
      "cell_type": "code",
      "execution_count": null,
      "metadata": {
        "gather": {
          "logged": 1646126047231
        },
        "jupyter": {
          "outputs_hidden": false,
          "source_hidden": false
        },
        "nteract": {
          "transient": {
            "deleting": false
          }
        }
      },
      "outputs": [],
      "source": [
        "#Path to file in datastore\n",
        "datastore_paths_train = [(ds, dataset_path_train+'/train.csv')]\n",
        "\n",
        "#Creating dataset object\n",
        "dataset_train = Dataset.Tabular.from_delimited_files(\n",
        "    path=datastore_paths_train, header=True\n",
        ")\n",
        "\n",
        "#Registering dataset in aml\n",
        "dataset_train.register(workspace=ws, \n",
        "                name=\"Diabetes_Processed\", \n",
        "                create_new_version=True,\n",
        "                tags={'my_tag': 'tag'},\n",
        "                description=description\n",
        "                )\n"
      ]
    },
    {
      "cell_type": "markdown",
      "metadata": {
        "nteract": {
          "transient": {
            "deleting": false
          }
        }
      },
      "source": [
        "# Dataset\n",
        "\n",
        "Docs: </br>\n",
        "[How to use or create datasets](https://docs.microsoft.com/en-us/azure/machine-learning/how-to-create-register-datasets) </br>\n",
        "[Code docs](https://docs.microsoft.com/en-us/python/api/azureml-core/azureml.core.dataset.dataset?view=azure-ml-py)\n",
        "\n",
        "\n",
        "### Register pandas dataframe as dataset\n",
        "\n",
        "```\n",
        "Dataset.Tabular.register_pandas_dataframe(dataframe=raw_data,target=(ds, 'diabetes_raw_data'),name='Diabetes_Raw')\n",
        "```\n",
        "\n",
        "Docs </br>\n",
        "[Register pandas dataframe as dataset](https://docs.microsoft.com/en-us/python/api/azureml-core/azureml.data.dataset_factory.tabulardatasetfactory?view=azure-ml-py#azureml-data-dataset-factory-tabulardatasetfactory-register-pandas-dataframe)\n"
      ]
    }
  ],
  "metadata": {
    "kernel_info": {
      "name": "python3-azureml"
    },
    "kernelspec": {
      "display_name": "Python 3.6 - AzureML",
      "language": "python",
      "name": "python3-azureml"
    },
    "language_info": {
      "codemirror_mode": {
        "name": "ipython",
        "version": 3
      },
      "file_extension": ".py",
      "mimetype": "text/x-python",
      "name": "python",
      "nbconvert_exporter": "python",
      "pygments_lexer": "ipython3",
      "version": "3.6.9"
    },
    "microsoft": {
      "host": {
        "AzureML": {
          "notebookHasBeenCompleted": true
        }
      }
    },
    "nteract": {
      "version": "nteract-front-end@1.0.0"
    }
  },
  "nbformat": 4,
  "nbformat_minor": 2
}
