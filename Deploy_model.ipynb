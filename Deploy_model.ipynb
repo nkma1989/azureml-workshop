{
  "cells": [
    {
      "cell_type": "markdown",
      "metadata": {
        "nteract": {
          "transient": {
            "deleting": false
          }
        }
      },
      "source": [
        "# Getting workspace"
      ]
    },
    {
      "cell_type": "code",
      "execution_count": null,
      "metadata": {
        "gather": {
          "logged": 1646131645102
        }
      },
      "outputs": [],
      "source": [
        "from azureml.core import Workspace,Dataset,Environment,Experiment,ComputeTarget,Model\n",
        "import json\n",
        "\n",
        "ws = Workspace.from_config()\n",
        "print(ws.name, ws.resource_group, ws.location, ws.subscription_id, sep = '\\n')"
      ]
    },
    {
      "cell_type": "markdown",
      "metadata": {
        "nteract": {
          "transient": {
            "deleting": false
          }
        }
      },
      "source": [
        "# Creating environment\n",
        "\n",
        "### Docs\n",
        "[Environment class](https://docs.microsoft.com/en-us/python/api/azureml-core/azureml.core.environment(class)?view=azure-ml-py) </br>\n",
        "[How to docs](https://docs.microsoft.com/en-us/azure/machine-learning/how-to-use-environments)  </br>\n",
        "\n"
      ]
    },
    {
      "cell_type": "code",
      "execution_count": null,
      "metadata": {
        "gather": {
          "logged": 1646131739675
        },
        "jupyter": {
          "outputs_hidden": false,
          "source_hidden": false
        },
        "nteract": {
          "transient": {
            "deleting": false
          }
        }
      },
      "outputs": [],
      "source": [
        "from azureml.core import Environment\n",
        "from azureml.core.conda_dependencies import CondaDependencies\n",
        "\n",
        "#Defining inference environment\n",
        "conda_deps = CondaDependencies.create(\n",
        "    conda_packages=['numpy', 'xgboost'], \n",
        "    pip_packages=['azureml-defaults', 'inference-schema'],\n",
        "    )\n",
        "infenv = Environment(name='inference-environment')\n",
        "infenv.python.conda_dependencies = conda_deps\n",
        "infenv.register(ws)\n",
        "print('Inference env registered')"
      ]
    },
    {
      "cell_type": "markdown",
      "metadata": {
        "nteract": {
          "transient": {
            "deleting": false
          }
        }
      },
      "source": [
        "# Deploying model\n",
        "This example shows how to deploy a model to a Container Instance\n",
        "### Docs\n",
        "[How to](https://docs.microsoft.com/en-us/azure/machine-learning/how-to-deploy-and-where?tabs=azcli) </br>\n",
        "[Model class](https://docs.microsoft.com/en-us/python/api/azureml-core/azureml.core.model.model?view=azure-ml-py) </br>\n",
        "[Model.Deploy() method](https://docs.microsoft.com/en-us/python/api/azureml-core/azureml.core.model.model?view=azure-ml-py#azureml-core-model-model-deploy)"
      ]
    },
    {
      "cell_type": "code",
      "execution_count": null,
      "metadata": {
        "gather": {
          "logged": 1646128459049
        },
        "jupyter": {
          "outputs_hidden": false,
          "source_hidden": false
        },
        "nteract": {
          "transient": {
            "deleting": false
          }
        }
      },
      "outputs": [],
      "source": [
        "from azureml.core.model import InferenceConfig\n",
        "from azureml.core.webservice import AciWebservice\n",
        "#Getting env\n",
        "environment=Environment.get(ws,name='inference-environment')\n",
        "#Creating inference configuration\n",
        "inference_config = InferenceConfig(entry_script='./scripts/score.py', environment=environment)\n",
        "#Auth_enables enables key based authentication against API.\n",
        "aci_config = AciWebservice.deploy_configuration(cpu_cores=1, memory_gb=1,auth_enabled=True)"
      ]
    },
    {
      "cell_type": "code",
      "execution_count": null,
      "metadata": {
        "gather": {
          "logged": 1646128617710
        },
        "jupyter": {
          "outputs_hidden": false,
          "source_hidden": false
        },
        "nteract": {
          "transient": {
            "deleting": false
          }
        }
      },
      "outputs": [],
      "source": [
        "service_name = 'diabetes-service'\n",
        "#Getting model object\n",
        "model=Model(ws,name='Diabetes-Model')\n",
        "#Deploying service\n",
        "service = Model.deploy(workspace=ws,\n",
        "                       name=service_name,\n",
        "                       models=[model],\n",
        "                       inference_config=inference_config,\n",
        "                       deployment_config=aci_config,\n",
        "                       overwrite=True)\n",
        "#Output deploy logs to notebook\n",
        "service.wait_for_deployment(show_output=True)"
      ]
    },
    {
      "cell_type": "markdown",
      "metadata": {
        "nteract": {
          "transient": {
            "deleting": false
          }
        }
      },
      "source": [
        "# Deploying to AKS cluster\n",
        "In order to deploy to AKS cluster a simple config change is required. In this example a AKS cluster called 'mytestinference' is already created.\n",
        "However this can also be created through the SDK.\n",
        "\n",
        "```\n",
        "#Deploy configuration\n",
        "aks_config = AksWebservice.deploy_configuration()\n",
        "#Fetching compute target\n",
        "aks_target = ComputeTarget(ws,'mytestinference')\n",
        "#Deploying service\n",
        "service = Model.deploy(workspace=ws,\n",
        "                       name=service_name,\n",
        "                       models=[model],\n",
        "                       inference_config=inference_config,\n",
        "                       deployment_config=aks_config,\n",
        "                       deployment_target=aks_target, #Pointing to AKS cluster\n",
        "                       overwrite=True)\n",
        "```\n"
      ]
    },
    {
      "cell_type": "markdown",
      "metadata": {
        "nteract": {
          "transient": {
            "deleting": false
          }
        }
      },
      "source": [
        "# Consuming model endpoint\n",
        "Consuming the model endpoints can be done using the python SDK or as a regular REST API"
      ]
    },
    {
      "cell_type": "code",
      "execution_count": null,
      "metadata": {
        "gather": {
          "logged": 1646131625667
        },
        "jupyter": {
          "outputs_hidden": false,
          "source_hidden": false
        },
        "nteract": {
          "transient": {
            "deleting": false
          }
        }
      },
      "outputs": [],
      "source": [
        "#Getting training data as example\n",
        "training_data=Dataset.get_by_name(ws,'Diabetes_Processed')\n",
        "df = training_data.to_pandas_dataframe()\n",
        "#Removing label column\n",
        "X = df.loc[:, df.columns != \"Binary_Target\"]"
      ]
    },
    {
      "cell_type": "markdown",
      "metadata": {
        "nteract": {
          "transient": {
            "deleting": false
          }
        }
      },
      "source": [
        "# Calling using AML SDK"
      ]
    },
    {
      "cell_type": "code",
      "execution_count": null,
      "metadata": {
        "gather": {
          "logged": 1646128633768
        },
        "jupyter": {
          "outputs_hidden": false,
          "source_hidden": false
        },
        "nteract": {
          "transient": {
            "deleting": false
          }
        }
      },
      "outputs": [],
      "source": [
        "#Preparing json data\n",
        "standard_sample_input = json.dumps({\n",
        "    'data': X.iloc[157,:].to_dict()\n",
        "    })\n",
        "\n",
        "service.run(input_data=standard_sample_input)"
      ]
    },
    {
      "cell_type": "markdown",
      "metadata": {
        "nteract": {
          "transient": {
            "deleting": false
          }
        }
      },
      "source": [
        "# Calling as REST API\n",
        "In AML go to the endpoints tab and navigate to your service, under the consume tab you will find the API keys and examples of how to consume the API. </br>\n",
        "![image-alt-text](./img/aml-endpoint.bmp)"
      ]
    },
    {
      "cell_type": "code",
      "execution_count": null,
      "metadata": {
        "gather": {
          "logged": 1646131715072
        },
        "jupyter": {
          "outputs_hidden": false,
          "source_hidden": false
        },
        "nteract": {
          "transient": {
            "deleting": false
          }
        }
      },
      "outputs": [],
      "source": [
        "import urllib\n",
        "#Testing using https request\n",
        "standard_sample_input = json.dumps({\n",
        "    'data': X.iloc[1,:].to_dict()\n",
        "    })\n",
        "body = str.encode(standard_sample_input)\n",
        "\n",
        "url = service.scoring_uri\n",
        "api_key = '' # Replace this with the API key for the web service\n",
        "headers = {'Content-Type':'application/json', 'Authorization':('Bearer '+ api_key)}\n",
        "\n",
        "req = urllib.request.Request(url, body, headers)\n",
        "\n",
        "try:\n",
        "    response = urllib.request.urlopen(req)\n",
        "\n",
        "    result = response.read()\n",
        "    print(json.loads(result))\n",
        "except urllib.error.HTTPError as error:\n",
        "    print(\"The request failed with status code: \" + str(error.code))\n",
        "\n",
        "    # Print the headers - they include the requert ID and the timestamp, which are useful for debugging the failure\n",
        "    print(error.info())\n",
        "    print(json.loads(error.read().decode(\"utf8\", 'ignore')))"
      ]
    }
  ],
  "metadata": {
    "kernel_info": {
      "name": "python3-azureml"
    },
    "kernelspec": {
      "display_name": "Python 3.6 - AzureML",
      "language": "python",
      "name": "python3-azureml"
    },
    "language_info": {
      "codemirror_mode": {
        "name": "ipython",
        "version": 3
      },
      "file_extension": ".py",
      "mimetype": "text/x-python",
      "name": "python",
      "nbconvert_exporter": "python",
      "pygments_lexer": "ipython3",
      "version": "3.6.9"
    },
    "microsoft": {
      "host": {
        "AzureML": {
          "notebookHasBeenCompleted": true
        }
      }
    },
    "nteract": {
      "version": "nteract-front-end@1.0.0"
    }
  },
  "nbformat": 4,
  "nbformat_minor": 2
}
