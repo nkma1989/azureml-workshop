{
  "cells": [
    {
      "cell_type": "markdown",
      "metadata": {
        "nteract": {
          "transient": {
            "deleting": false
          }
        }
      },
      "source": [
        "# Getting workspace"
      ]
    },
    {
      "cell_type": "code",
      "execution_count": null,
      "metadata": {
        "gather": {
          "logged": 1646233694597
        }
      },
      "outputs": [],
      "source": [
        "from azureml.core import Workspace,Dataset,Environment,Experiment,ComputeTarget\n",
        "\n",
        "ws = Workspace.from_config()\n",
        "print(ws.name, ws.resource_group, ws.location, ws.subscription_id, sep = '\\n')"
      ]
    },
    {
      "cell_type": "markdown",
      "metadata": {
        "nteract": {
          "transient": {
            "deleting": false
          }
        }
      },
      "source": [
        "# Getting predefined dataset, compute and environment"
      ]
    },
    {
      "cell_type": "code",
      "execution_count": null,
      "metadata": {
        "gather": {
          "logged": 1646233695589
        },
        "jupyter": {
          "outputs_hidden": false,
          "source_hidden": false
        },
        "nteract": {
          "transient": {
            "deleting": false
          }
        }
      },
      "outputs": [],
      "source": [
        "#Getting raw dataset\n",
        "raw_data=Dataset.get_by_name(ws,'Diabetes_Raw')\n",
        "#Getting compute target\n",
        "compute_instance = ComputeTarget(workspace=ws, name='EXTNAN1')\n",
        "#Getting environment\n",
        "environment = Environment.get(ws,'Diabetes-Model-Environment')\n"
      ]
    },
    {
      "cell_type": "markdown",
      "metadata": {
        "nteract": {
          "transient": {
            "deleting": false
          }
        }
      },
      "source": [
        "# Output dataset\n",
        "OutputFileDatasetConfig can be used for temporary data output from pipeline steps and persistent output data. </br>\n",
        "Docs: </br>\n",
        "[OutputFileDataConfig docs](https://docs.microsoft.com/en-us/python/api/azureml-core/azureml.data.output_dataset_config.outputfiledatasetconfig?view=azure-ml-py) </br>\n",
        "[Move data in pipelines](https://docs.microsoft.com/en-us/azure/machine-learning/how-to-move-data-in-out-of-pipelines) </br>\n",
        "[3 ways to pass data between pipeline steps](https://vladiliescu.net/3-ways-to-pass-data-between-azure-ml-pipeline-steps/)\n"
      ]
    },
    {
      "cell_type": "code",
      "execution_count": null,
      "metadata": {
        "gather": {
          "logged": 1646233695838
        },
        "jupyter": {
          "outputs_hidden": false,
          "source_hidden": false
        },
        "nteract": {
          "transient": {
            "deleting": false
          }
        }
      },
      "outputs": [],
      "source": [
        "from azureml.data import OutputFileDatasetConfig\n",
        "#Defining registered dataset as output\n",
        "datastore=ws.get_default_datastore()\n",
        "output_data1 = OutputFileDatasetConfig(destination = (datastore, 'aml_pipeline/{run-id}'))\n",
        "#On completion of step register the output as a dataset\n",
        "processed_dataset = output_data1.register_on_complete(name = 'Diabetes_pipeline_processed_data')"
      ]
    },
    {
      "cell_type": "markdown",
      "metadata": {
        "nteract": {
          "transient": {
            "deleting": false
          }
        }
      },
      "source": [
        "# Run configuration\n",
        "Using predefined compute and envrionment"
      ]
    },
    {
      "cell_type": "code",
      "execution_count": null,
      "metadata": {
        "gather": {
          "logged": 1646233695963
        },
        "jupyter": {
          "outputs_hidden": false,
          "source_hidden": false
        },
        "nteract": {
          "transient": {
            "deleting": false
          }
        }
      },
      "outputs": [],
      "source": [
        "from azureml.core.runconfig import RunConfiguration\n",
        "aml_run_config = RunConfiguration()\n",
        "aml_run_config.target = compute_instance\n",
        "aml_run_config.environment=environment"
      ]
    },
    {
      "cell_type": "markdown",
      "metadata": {
        "nteract": {
          "transient": {
            "deleting": false
          }
        }
      },
      "source": [
        "# Defining steps"
      ]
    },
    {
      "cell_type": "code",
      "execution_count": null,
      "metadata": {
        "gather": {
          "logged": 1646233696081
        },
        "jupyter": {
          "outputs_hidden": false,
          "source_hidden": false
        },
        "nteract": {
          "transient": {
            "deleting": false
          }
        }
      },
      "outputs": [],
      "source": [
        "from azureml.pipeline.steps import PythonScriptStep\n",
        "#Input data definition\n",
        "ds_input = raw_data.as_named_input('input_data')\n",
        "# Defining data processing step\n",
        "data_prep_step = PythonScriptStep(\n",
        "    name='Data processing',\n",
        "    script_name=\"./data_processing.py\",\n",
        "    source_directory=\"./scripts\",\n",
        "    arguments=[\"--input_data\", ds_input,\n",
        "            \"--output\", processed_dataset\n",
        "            ],\n",
        "    runconfig=aml_run_config,\n",
        "    allow_reuse=True\n",
        ")"
      ]
    },
    {
      "cell_type": "code",
      "execution_count": null,
      "metadata": {
        "gather": {
          "logged": 1646233697892
        },
        "jupyter": {
          "outputs_hidden": false,
          "source_hidden": false
        },
        "nteract": {
          "transient": {
            "deleting": false
          }
        }
      },
      "outputs": [],
      "source": [
        "#Defining training step\n",
        "train_step = PythonScriptStep(\n",
        "  name='Training Model',\n",
        "  script_name=\"./train.py\",\n",
        "  source_directory=\"./scripts\",\n",
        "  arguments=[\n",
        "        \"--input_data\",\n",
        "        processed_dataset.read_delimited_files().as_input(name='input_data'),\n",
        "        \"--model_name\",\n",
        "        \"Pipeline-Model\",\n",
        "        \"--target_column\",\n",
        "        \"Binary_Target\"\n",
        "    ],\n",
        "  runconfig=aml_run_config\n",
        ")"
      ]
    },
    {
      "cell_type": "markdown",
      "metadata": {
        "nteract": {
          "transient": {
            "deleting": false
          }
        }
      },
      "source": [
        "# Combining steps into pipline\n",
        "\n",
        "Docs:</br>\n",
        "[How to use piplines](https://docs.microsoft.com/en-us/azure/machine-learning/how-to-create-machine-learning-pipelines) </br>\n",
        "[Code docs](https://docs.microsoft.com/en-us/python/api/azureml-pipeline-core/azureml.pipeline.core.pipeline.pipeline?view=azure-ml-py)\n"
      ]
    },
    {
      "cell_type": "code",
      "execution_count": null,
      "metadata": {
        "gather": {
          "logged": 1646233698640
        },
        "jupyter": {
          "outputs_hidden": false,
          "source_hidden": false
        },
        "nteract": {
          "transient": {
            "deleting": false
          }
        }
      },
      "outputs": [],
      "source": [
        "ml_pipeline_steps = [data_prep_step,train_step]\n",
        "\n",
        "from azureml.pipeline.core import Pipeline\n",
        "\n",
        "# Build the pipeline\n",
        "pipeline1 = Pipeline(workspace=ws, steps=[ml_pipeline_steps])"
      ]
    },
    {
      "cell_type": "code",
      "execution_count": null,
      "metadata": {
        "gather": {
          "logged": 1646233834661
        },
        "jupyter": {
          "outputs_hidden": false,
          "source_hidden": false
        },
        "nteract": {
          "transient": {
            "deleting": false
          }
        }
      },
      "outputs": [],
      "source": [
        "from azureml.core import Experiment\n",
        "\n",
        "# Submit the pipeline to be run\n",
        "pipeline_run1 = Experiment(ws, 'Diabetes_Pipeline').submit(pipeline1)\n",
        "pipeline_run1.wait_for_completion()"
      ]
    },
    {
      "cell_type": "markdown",
      "metadata": {
        "nteract": {
          "transient": {
            "deleting": false
          }
        }
      },
      "source": [
        "# Publishing pipeline\n",
        "\n",
        "Docs </br>\n",
        "[How to](https://docs.microsoft.com/en-us/azure/machine-learning/how-to-deploy-pipelines)"
      ]
    },
    {
      "cell_type": "code",
      "execution_count": null,
      "metadata": {
        "gather": {
          "logged": 1646234185174
        },
        "jupyter": {
          "outputs_hidden": false,
          "source_hidden": false
        },
        "nteract": {
          "transient": {
            "deleting": false
          }
        }
      },
      "outputs": [],
      "source": [
        "published_pipeline1 = pipeline_run1.publish_pipeline(\n",
        "     name=\"Diabetes_Pipeline\",\n",
        "     description=\"Published Pipeline Description\",\n",
        "     version=\"1.0\")"
      ]
    },
    {
      "cell_type": "markdown",
      "metadata": {
        "nteract": {
          "transient": {
            "deleting": false
          }
        }
      },
      "source": [
        "# Triggering pipeline endpoint\n",
        "In order to trigger the endpoint an AAD auth token has to be retrieved. Once That is done the pipline can be triggered as shown:\n",
        "```\n",
        "from azureml.pipeline.core import PublishedPipeline\n",
        "import requests\n",
        "\n",
        "response = requests.post(published_pipeline1.endpoint,\n",
        "                         headers=aad_token,\n",
        "                         json={\"ExperimentName\": \"My_Pipeline\",\n",
        "                               \"ParameterAssignments\": {\"pipeline_arg\": 20}})\n",
        "```\n",
        "Docs: </br>\n",
        "[Run published pipeline](https://docs.microsoft.com/en-us/azure/machine-learning/how-to-deploy-pipelines#run-a-published-pipeline) </br>\n",
        "[Authenticating in AML](https://github.com/Azure/MachineLearningNotebooks/blob/master/how-to-use-azureml/manage-azureml-service/authentication-in-azureml/authentication-in-azureml.ipynb)"
      ]
    }
  ],
  "metadata": {
    "kernel_info": {
      "name": "python3-azureml"
    },
    "kernelspec": {
      "display_name": "Python 3.6 - AzureML",
      "language": "python",
      "name": "python3-azureml"
    },
    "language_info": {
      "codemirror_mode": {
        "name": "ipython",
        "version": 3
      },
      "file_extension": ".py",
      "mimetype": "text/x-python",
      "name": "python",
      "nbconvert_exporter": "python",
      "pygments_lexer": "ipython3",
      "version": "3.6.9"
    },
    "microsoft": {
      "host": {
        "AzureML": {
          "notebookHasBeenCompleted": true
        }
      }
    },
    "nteract": {
      "version": "nteract-front-end@1.0.0"
    }
  },
  "nbformat": 4,
  "nbformat_minor": 2
}
